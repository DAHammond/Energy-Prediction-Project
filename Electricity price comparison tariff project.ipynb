{
 "cells": [
  {
   "cell_type": "markdown",
   "id": "415f5cad",
   "metadata": {},
   "source": [
    "# Smart Meter Octopus Energy Comparison Project\n",
    "## A Workbook to compare existing electricity smart meter data to the projected costs of different electricity tariffs from Octopus Energy for the next contract period\n"
   ]
  },
  {
   "cell_type": "markdown",
   "id": "49e93cc5",
   "metadata": {},
   "source": [
    "### How to use this Jupyter Notebook:\n",
    "1. Download the consumption data from the desired period from the Octopus Energy Website (be aware that if the dataset is not for an entire year, the consumption patterns may not be representative for the entire years costs. Also, be aware that your consumption habits may change after changing tariff e.g. charging an electric car over a certain time of day)\n",
    "2. Move the CSV file into the same folder that this notebook is in\n",
    "3. Change the name of the CSV file in the setup section of this notebook so the correct data is being imported\n",
    "4. Make sure that the tariffs and prices are correct for the available options for the correct postcode on the Octopus energy website (and the time periods have not changed)\n",
    "5. Run the code and see the comparison"
   ]
  },
  {
   "cell_type": "markdown",
   "id": "2a17deeb",
   "metadata": {},
   "source": [
    "## Setup Section"
   ]
  },
  {
   "cell_type": "code",
   "execution_count": 85,
   "id": "de40bfdf",
   "metadata": {},
   "outputs": [],
   "source": [
    "%matplotlib inline\n",
    "import numpy as np\n",
    "import matplotlib.pyplot as plt\n",
    "import pandas as pd\n",
    "import math\n",
    "import seaborn as sns"
   ]
  },
  {
   "cell_type": "code",
   "execution_count": 86,
   "id": "c733a546",
   "metadata": {},
   "outputs": [
    {
     "data": {
      "text/html": [
       "<div>\n",
       "<style scoped>\n",
       "    .dataframe tbody tr th:only-of-type {\n",
       "        vertical-align: middle;\n",
       "    }\n",
       "\n",
       "    .dataframe tbody tr th {\n",
       "        vertical-align: top;\n",
       "    }\n",
       "\n",
       "    .dataframe thead th {\n",
       "        text-align: right;\n",
       "    }\n",
       "</style>\n",
       "<table border=\"1\" class=\"dataframe\">\n",
       "  <thead>\n",
       "    <tr style=\"text-align: right;\">\n",
       "      <th></th>\n",
       "      <th>Consumption (kWh)</th>\n",
       "      <th>Start</th>\n",
       "      <th>End</th>\n",
       "    </tr>\n",
       "  </thead>\n",
       "  <tbody>\n",
       "    <tr>\n",
       "      <th>0</th>\n",
       "      <td>0.071</td>\n",
       "      <td>2024-01-01T00:00:00+00:00</td>\n",
       "      <td>2024-01-01T00:30:00+00:00</td>\n",
       "    </tr>\n",
       "    <tr>\n",
       "      <th>1</th>\n",
       "      <td>0.076</td>\n",
       "      <td>2024-01-01T00:30:00+00:00</td>\n",
       "      <td>2024-01-01T01:00:00+00:00</td>\n",
       "    </tr>\n",
       "    <tr>\n",
       "      <th>2</th>\n",
       "      <td>0.067</td>\n",
       "      <td>2024-01-01T01:00:00+00:00</td>\n",
       "      <td>2024-01-01T01:30:00+00:00</td>\n",
       "    </tr>\n",
       "    <tr>\n",
       "      <th>3</th>\n",
       "      <td>0.078</td>\n",
       "      <td>2024-01-01T01:30:00+00:00</td>\n",
       "      <td>2024-01-01T02:00:00+00:00</td>\n",
       "    </tr>\n",
       "    <tr>\n",
       "      <th>4</th>\n",
       "      <td>0.061</td>\n",
       "      <td>2024-01-01T02:00:00+00:00</td>\n",
       "      <td>2024-01-01T02:30:00+00:00</td>\n",
       "    </tr>\n",
       "    <tr>\n",
       "      <th>...</th>\n",
       "      <td>...</td>\n",
       "      <td>...</td>\n",
       "      <td>...</td>\n",
       "    </tr>\n",
       "    <tr>\n",
       "      <th>4891</th>\n",
       "      <td>0.041</td>\n",
       "      <td>2024-04-11T22:30:00+01:00</td>\n",
       "      <td>2024-04-11T23:00:00+01:00</td>\n",
       "    </tr>\n",
       "    <tr>\n",
       "      <th>4892</th>\n",
       "      <td>0.042</td>\n",
       "      <td>2024-04-11T23:00:00+01:00</td>\n",
       "      <td>2024-04-11T23:30:00+01:00</td>\n",
       "    </tr>\n",
       "    <tr>\n",
       "      <th>4893</th>\n",
       "      <td>0.061</td>\n",
       "      <td>2024-04-11T23:30:00+01:00</td>\n",
       "      <td>2024-04-12T00:00:00+01:00</td>\n",
       "    </tr>\n",
       "    <tr>\n",
       "      <th>4894</th>\n",
       "      <td>0.041</td>\n",
       "      <td>2024-04-12T00:00:00+01:00</td>\n",
       "      <td>2024-04-12T00:30:00+01:00</td>\n",
       "    </tr>\n",
       "    <tr>\n",
       "      <th>4895</th>\n",
       "      <td>0.042</td>\n",
       "      <td>2024-04-12T00:30:00+01:00</td>\n",
       "      <td>2024-04-12T01:00:00+01:00</td>\n",
       "    </tr>\n",
       "  </tbody>\n",
       "</table>\n",
       "<p>4896 rows × 3 columns</p>\n",
       "</div>"
      ],
      "text/plain": [
       "      Consumption (kWh)                       Start  \\\n",
       "0                 0.071   2024-01-01T00:00:00+00:00   \n",
       "1                 0.076   2024-01-01T00:30:00+00:00   \n",
       "2                 0.067   2024-01-01T01:00:00+00:00   \n",
       "3                 0.078   2024-01-01T01:30:00+00:00   \n",
       "4                 0.061   2024-01-01T02:00:00+00:00   \n",
       "...                 ...                         ...   \n",
       "4891              0.041   2024-04-11T22:30:00+01:00   \n",
       "4892              0.042   2024-04-11T23:00:00+01:00   \n",
       "4893              0.061   2024-04-11T23:30:00+01:00   \n",
       "4894              0.041   2024-04-12T00:00:00+01:00   \n",
       "4895              0.042   2024-04-12T00:30:00+01:00   \n",
       "\n",
       "                             End  \n",
       "0      2024-01-01T00:30:00+00:00  \n",
       "1      2024-01-01T01:00:00+00:00  \n",
       "2      2024-01-01T01:30:00+00:00  \n",
       "3      2024-01-01T02:00:00+00:00  \n",
       "4      2024-01-01T02:30:00+00:00  \n",
       "...                          ...  \n",
       "4891   2024-04-11T23:00:00+01:00  \n",
       "4892   2024-04-11T23:30:00+01:00  \n",
       "4893   2024-04-12T00:00:00+01:00  \n",
       "4894   2024-04-12T00:30:00+01:00  \n",
       "4895   2024-04-12T01:00:00+01:00  \n",
       "\n",
       "[4896 rows x 3 columns]"
      ]
     },
     "execution_count": 86,
     "metadata": {},
     "output_type": "execute_result"
    }
   ],
   "source": [
    "#Import the data from the CSV file that was downloaded\n",
    "DF = pd.read_csv('consumption.csv')\n",
    "DF"
   ]
  },
  {
   "cell_type": "code",
   "execution_count": 87,
   "id": "f51ea569",
   "metadata": {},
   "outputs": [
    {
     "name": "stdout",
     "output_type": "stream",
     "text": [
      "   Consumption (kWh)                     Start                       End  \\\n",
      "0              0.071 2024-01-01 00:00:00+00:00 2024-01-01 00:30:00+00:00   \n",
      "1              0.076 2024-01-01 00:30:00+00:00 2024-01-01 01:00:00+00:00   \n",
      "2              0.067 2024-01-01 01:00:00+00:00 2024-01-01 01:30:00+00:00   \n",
      "3              0.078 2024-01-01 01:30:00+00:00 2024-01-01 02:00:00+00:00   \n",
      "4              0.061 2024-01-01 02:00:00+00:00 2024-01-01 02:30:00+00:00   \n",
      "\n",
      "         Date  Time Period  \n",
      "0  2024-01-01            1  \n",
      "1  2024-01-01            2  \n",
      "2  2024-01-01            3  \n",
      "3  2024-01-01            4  \n",
      "4  2024-01-01            5  \n"
     ]
    }
   ],
   "source": [
    "# Strip extra spaces from the column names\n",
    "DF.columns = DF.columns.str.strip()\n",
    "\n",
    "# Convert 'Start' and 'End' columns to datetime, ignoring timezone information\n",
    "DF['Start'] = pd.to_datetime(DF['Start'], utc=True)\n",
    "DF['End'] = pd.to_datetime(DF['End'], utc=True)\n",
    "\n",
    "# Create a new column for the date extracted from the 'Start' column\n",
    "DF['Date'] = DF['Start'].dt.date\n",
    "\n",
    "# Function to calculate the time period number from the 'Start' datetime\n",
    "def calculate_time_period(start_time):\n",
    "    return start_time.hour * 2 + (start_time.minute // 30 + 1)\n",
    "\n",
    "# Create a new column for the time period\n",
    "DF['Time Period'] = DF['Start'].apply(calculate_time_period)\n",
    "\n",
    "# Display the first few rows of the DataFrame to verify changes\n",
    "print(DF.head())"
   ]
  },
  {
   "cell_type": "code",
   "execution_count": 88,
   "id": "55212863",
   "metadata": {},
   "outputs": [
    {
     "data": {
      "text/html": [
       "<div>\n",
       "<style scoped>\n",
       "    .dataframe tbody tr th:only-of-type {\n",
       "        vertical-align: middle;\n",
       "    }\n",
       "\n",
       "    .dataframe tbody tr th {\n",
       "        vertical-align: top;\n",
       "    }\n",
       "\n",
       "    .dataframe thead th {\n",
       "        text-align: right;\n",
       "    }\n",
       "</style>\n",
       "<table border=\"1\" class=\"dataframe\">\n",
       "  <thead>\n",
       "    <tr style=\"text-align: right;\">\n",
       "      <th></th>\n",
       "      <th>Consumption (kWh)</th>\n",
       "      <th>Date</th>\n",
       "      <th>Time Period</th>\n",
       "    </tr>\n",
       "  </thead>\n",
       "  <tbody>\n",
       "    <tr>\n",
       "      <th>0</th>\n",
       "      <td>0.071</td>\n",
       "      <td>2024-01-01</td>\n",
       "      <td>1</td>\n",
       "    </tr>\n",
       "    <tr>\n",
       "      <th>1</th>\n",
       "      <td>0.076</td>\n",
       "      <td>2024-01-01</td>\n",
       "      <td>2</td>\n",
       "    </tr>\n",
       "    <tr>\n",
       "      <th>2</th>\n",
       "      <td>0.067</td>\n",
       "      <td>2024-01-01</td>\n",
       "      <td>3</td>\n",
       "    </tr>\n",
       "    <tr>\n",
       "      <th>3</th>\n",
       "      <td>0.078</td>\n",
       "      <td>2024-01-01</td>\n",
       "      <td>4</td>\n",
       "    </tr>\n",
       "    <tr>\n",
       "      <th>4</th>\n",
       "      <td>0.061</td>\n",
       "      <td>2024-01-01</td>\n",
       "      <td>5</td>\n",
       "    </tr>\n",
       "    <tr>\n",
       "      <th>...</th>\n",
       "      <td>...</td>\n",
       "      <td>...</td>\n",
       "      <td>...</td>\n",
       "    </tr>\n",
       "    <tr>\n",
       "      <th>4891</th>\n",
       "      <td>0.041</td>\n",
       "      <td>2024-04-11</td>\n",
       "      <td>44</td>\n",
       "    </tr>\n",
       "    <tr>\n",
       "      <th>4892</th>\n",
       "      <td>0.042</td>\n",
       "      <td>2024-04-11</td>\n",
       "      <td>45</td>\n",
       "    </tr>\n",
       "    <tr>\n",
       "      <th>4893</th>\n",
       "      <td>0.061</td>\n",
       "      <td>2024-04-11</td>\n",
       "      <td>46</td>\n",
       "    </tr>\n",
       "    <tr>\n",
       "      <th>4894</th>\n",
       "      <td>0.041</td>\n",
       "      <td>2024-04-11</td>\n",
       "      <td>47</td>\n",
       "    </tr>\n",
       "    <tr>\n",
       "      <th>4895</th>\n",
       "      <td>0.042</td>\n",
       "      <td>2024-04-11</td>\n",
       "      <td>48</td>\n",
       "    </tr>\n",
       "  </tbody>\n",
       "</table>\n",
       "<p>4896 rows × 3 columns</p>\n",
       "</div>"
      ],
      "text/plain": [
       "      Consumption (kWh)        Date  Time Period\n",
       "0                 0.071  2024-01-01            1\n",
       "1                 0.076  2024-01-01            2\n",
       "2                 0.067  2024-01-01            3\n",
       "3                 0.078  2024-01-01            4\n",
       "4                 0.061  2024-01-01            5\n",
       "...                 ...         ...          ...\n",
       "4891              0.041  2024-04-11           44\n",
       "4892              0.042  2024-04-11           45\n",
       "4893              0.061  2024-04-11           46\n",
       "4894              0.041  2024-04-11           47\n",
       "4895              0.042  2024-04-11           48\n",
       "\n",
       "[4896 rows x 3 columns]"
      ]
     },
     "execution_count": 88,
     "metadata": {},
     "output_type": "execute_result"
    }
   ],
   "source": [
    "DF_Final = DF[['Consumption (kWh)', 'Date', 'Time Period']]\n",
    "DF_Final"
   ]
  },
  {
   "cell_type": "code",
   "execution_count": 89,
   "id": "593ef256",
   "metadata": {},
   "outputs": [
    {
     "name": "stdout",
     "output_type": "stream",
     "text": [
      "   Time Period  Consumption (kWh)\n",
      "0            1             12.923\n",
      "1            2              9.702\n",
      "2            3             10.195\n",
      "3            4              8.696\n",
      "4            5              9.652\n"
     ]
    }
   ],
   "source": [
    "DF_Final_Grouped_Consumption = DF_Final.groupby('Time Period')['Consumption (kWh)'].sum().reset_index()\n",
    "print(DF_Final_Grouped_Consumption.head())"
   ]
  },
  {
   "cell_type": "code",
   "execution_count": 120,
   "id": "fe8660c7",
   "metadata": {},
   "outputs": [
    {
     "data": {
      "image/png": "[encoded data removed]",
      "text/plain": [
       "<Figure size 1000x600 with 1 Axes>"
      ]
     },
     "metadata": {},
     "output_type": "display_data"
    }
   ],
   "source": [
    "DF_Final_Grouped_Consumption.plot.line(x ='Time Period', y =  'Consumption (kWh)',figsize=(10, 6), color = '#59bab2')\n",
    "plt.title('Energy Consumption per Time Period')\n",
    "plt.xlabel('Time Period')\n",
    "plt.ylabel('Consumption (kWh)')\n",
    "plt.grid(axis='y')\n",
    "\n",
    "plt.show()"
   ]
  },
  {
   "cell_type": "markdown",
   "id": "e11daf04",
   "metadata": {},
   "source": [
    "## Tariff Comparison Section\n",
    "Standing Charges are the same regardless of the tariff you choose. Therefore, I have left this out of this price comparison"
   ]
  },
  {
   "cell_type": "markdown",
   "id": "c7594def",
   "metadata": {},
   "source": [
    "### Agile Octopus\n",
    "This Tariff has a flat rate for the whole day"
   ]
  },
  {
   "cell_type": "code",
   "execution_count": 90,
   "id": "076c9c64",
   "metadata": {},
   "outputs": [],
   "source": [
    "Agile_Unit_Rate = 0.2457"
   ]
  },
  {
   "cell_type": "code",
   "execution_count": 91,
   "id": "79800ac1",
   "metadata": {},
   "outputs": [
    {
     "name": "stdout",
     "output_type": "stream",
     "text": [
      "\u001b[1mCost:\u001b[0m £ 241.43194530000002\n"
     ]
    }
   ],
   "source": [
    "Agile_Cost = DF_Final_Grouped_Consumption['Consumption (kWh)'].sum() * Agile_Unit_Rate\n",
    "print(\"\\033[1mCost:\\033[0m\", \"£\", Agile_Cost)"
   ]
  },
  {
   "cell_type": "markdown",
   "id": "aa979e79",
   "metadata": {},
   "source": [
    "### Cosy Octopus\n",
    "At the time of writing, times were:\n",
    "Peak rate (16:00 - 19:00) & \n",
    "Cosy rate (04:00 - 07:00 & 13:00 - 16:00)"
   ]
  },
  {
   "cell_type": "code",
   "execution_count": 92,
   "id": "2f1a6d37",
   "metadata": {},
   "outputs": [],
   "source": [
    "#Day Rate\n",
    "Cosy_Unit_Day_Rate = 0.2525\n",
    "Cosy_Unit_Day_Rate_Periods = [1,2,3,4,5,6,7,14,15,16,17,18,19,20,21,22,23,24,25,26,39,40,41,42,43,44,45,46,47,48]\n",
    "#Peak Rate\n",
    "Cosy_Unit_Peak_Rate = 0.3662\n",
    "Cosy_Unit_Peak_Rate_Periods = [33,34,35,36,37,38]\n",
    "#Cosy Rate\n",
    "Cosy_Unit_Cosy_Rate = 0.1237\n",
    "Cosy_Unit_Cosy_Rate_Periods = [8,9,10,11,12,13,27,28,29,30,31,32]"
   ]
  },
  {
   "cell_type": "code",
   "execution_count": 93,
   "id": "f4a06f73",
   "metadata": {},
   "outputs": [
    {
     "name": "stdout",
     "output_type": "stream",
     "text": [
      "\u001b[1mDay Cost:\u001b[0m £ 162.4223925\n",
      "\u001b[1mPeak Cost:\u001b[0m £ 59.5247114\n",
      "\u001b[1mCosy Cost:\u001b[0m £ 21.873252500000003\n",
      "\n",
      "\u001b[1mTotal Cost:\u001b[0m £ 243.8203564\n"
     ]
    }
   ],
   "source": [
    "Cost_Day = DF_Final_Grouped_Consumption[\n",
    "    DF_Final_Grouped_Consumption['Time Period'].isin(Cosy_Unit_Day_Rate_Periods)\n",
    "]['Consumption (kWh)'].sum() * Cosy_Unit_Day_Rate\n",
    "\n",
    "Cost_Peak = DF_Final_Grouped_Consumption[\n",
    "    DF_Final_Grouped_Consumption['Time Period'].isin(Cosy_Unit_Peak_Rate_Periods)\n",
    "]['Consumption (kWh)'].sum() * Cosy_Unit_Peak_Rate\n",
    "\n",
    "Cost_Cosy = DF_Final_Grouped_Consumption[\n",
    "    DF_Final_Grouped_Consumption['Time Period'].isin(Cosy_Unit_Cosy_Rate_Periods)\n",
    "]['Consumption (kWh)'].sum() * Cosy_Unit_Cosy_Rate\n",
    "\n",
    "# Add up the costs for the total\n",
    "Total_Cosy_Cost = Cost_Day + Cost_Peak + Cost_Cosy\n",
    "\n",
    "print(\"\\033[1mDay Cost:\\033[0m\", \"£\", Cost_Day)\n",
    "print(\"\\033[1mPeak Cost:\\033[0m\", \"£\", Cost_Peak)\n",
    "print(\"\\033[1mCosy Cost:\\033[0m\", \"£\", Cost_Cosy)\n",
    "print (\"\")\n",
    "print(\"\\033[1mTotal Cost:\\033[0m\", \"£\", Total_Cosy_Cost)"
   ]
  },
  {
   "cell_type": "markdown",
   "id": "471735c9",
   "metadata": {},
   "source": [
    "### Intelligent Octopus GO\n",
    "At the time of writing, night rates were from 23:30 to 05:30 every night"
   ]
  },
  {
   "cell_type": "code",
   "execution_count": 94,
   "id": "8bf77b77",
   "metadata": {},
   "outputs": [],
   "source": [
    "#Day Rate\n",
    "Intelligent_Go_Day_Rate = 0.2794\n",
    "Intelligent_Go_Day_Rate_Periods = [12,13,14,15,16,17,18,19,20,21,22,23,24,25,26,27,28,29,30,31,32,33,34,35,36,37,38,39,40,41,42,43,44,45,46,47]\n",
    "#Night Rate\n",
    "Intelligent_Go_Night_Rate = 0.075\n",
    "Intelligent_Go_Night_Rate_Periods = [48,1,2,3,4,5,6,7,8,9,10,11]"
   ]
  },
  {
   "cell_type": "code",
   "execution_count": 95,
   "id": "da0c068d",
   "metadata": {},
   "outputs": [
    {
     "name": "stdout",
     "output_type": "stream",
     "text": [
      "\u001b[1mIntelligent Go Day Cost:\u001b[0m 245.02793259999996\n",
      "\u001b[1mIntelligent Go Night Cost:\u001b[0m 7.92375\n",
      "\n",
      "\u001b[1mTotal Intelligent Go Cost:\u001b[0m 252.95168259999997\n"
     ]
    }
   ],
   "source": [
    "Cost_Intelligent_Go_Day = DF_Final_Grouped_Consumption[\n",
    "    DF_Final_Grouped_Consumption['Time Period'].isin(Intelligent_Go_Day_Rate_Periods)\n",
    "]['Consumption (kWh)'].sum() * Intelligent_Go_Day_Rate\n",
    "\n",
    "Cost_Intelligent_Go_Night = DF_Final_Grouped_Consumption[\n",
    "    DF_Final_Grouped_Consumption['Time Period'].isin(Intelligent_Go_Night_Rate_Periods)\n",
    "]['Consumption (kWh)'].sum() * Intelligent_Go_Night_Rate\n",
    "\n",
    "# Add up the costs for the total\n",
    "Total_Intelligent_Go_Cost = Cost_Intelligent_Go_Day + Cost_Intelligent_Go_Night\n",
    "\n",
    "print(f\"\\033[1mIntelligent Go Day Cost:\\033[0m\", Cost_Intelligent_Go_Day)\n",
    "print(f\"\\033[1mIntelligent Go Night Cost:\\033[0m\", Cost_Intelligent_Go_Night)\n",
    "print() \n",
    "print(f\"\\033[1mTotal Intelligent Go Cost:\\033[0m\", Total_Intelligent_Go_Cost)"
   ]
  },
  {
   "cell_type": "markdown",
   "id": "2b6b21c8",
   "metadata": {},
   "source": [
    "### Octopus GO\n",
    "At the time of writing, night rates were from 00:30 to 04:30 every night"
   ]
  },
  {
   "cell_type": "code",
   "execution_count": 96,
   "id": "ffb37528",
   "metadata": {},
   "outputs": [],
   "source": [
    "#Day Rate\n",
    "Go_Day_Rate = 0.2794\n",
    "Go_Day_Rate_Periods = [1,10,11,12,13,14,15,16,17,18,19,20,21,22,23,24,25,26,27,28,29,30,31,32,33,34,35,36,37,38,39,40,41,42,43,44,45,46,47,48]\n",
    "#Night Rate\n",
    "Go_Night_Rate = 0.9\n",
    "Go_Night_Rate_Periods = [2,3,4,5,6,7,8,9]"
   ]
  },
  {
   "cell_type": "code",
   "execution_count": 97,
   "id": "5250c93f",
   "metadata": {},
   "outputs": [
    {
     "name": "stdout",
     "output_type": "stream",
     "text": [
      "\u001b[1mGo Day Cost:\u001b[0m 256.35061759999996\n",
      "\u001b[1mGo Night Cost:\u001b[0m 58.612500000000004\n",
      "\n",
      "\u001b[1mTotal Go Cost:\u001b[0m 314.9631176\n"
     ]
    }
   ],
   "source": [
    "Cost_Go_Day = DF_Final_Grouped_Consumption[\n",
    "    DF_Final_Grouped_Consumption['Time Period'].isin(Go_Day_Rate_Periods)\n",
    "]['Consumption (kWh)'].sum() * Go_Day_Rate\n",
    "\n",
    "Cost_Go_Night = DF_Final_Grouped_Consumption[\n",
    "    DF_Final_Grouped_Consumption['Time Period'].isin(Go_Night_Rate_Periods)\n",
    "]['Consumption (kWh)'].sum() * Go_Night_Rate\n",
    "\n",
    "# Add up the costs for the total\n",
    "Total_Go_Cost = Cost_Go_Day + Cost_Go_Night\n",
    "\n",
    "# Output the results with formatting\n",
    "print(f\"\\033[1mGo Day Cost:\\033[0m {Cost_Go_Day}\")\n",
    "print(f\"\\033[1mGo Night Cost:\\033[0m {Cost_Go_Night}\")\n",
    "print()  # For an empty line\n",
    "print(f\"\\033[1mTotal Go Cost:\\033[0m {Total_Go_Cost}\")"
   ]
  },
  {
   "cell_type": "markdown",
   "id": "2b503252",
   "metadata": {},
   "source": [
    "## Summary"
   ]
  },
  {
   "cell_type": "code",
   "execution_count": 98,
   "id": "795b0598",
   "metadata": {},
   "outputs": [
    {
     "name": "stdout",
     "output_type": "stream",
     "text": [
      "Agile cost of £241.43 is the cheapest rate available using last year's data.\n"
     ]
    }
   ],
   "source": [
    "def find_cheapest_rate(**costs):\n",
    "    # Find the key with the minimum value in the costs dictionary\n",
    "    cheapest_rate_name = min(costs, key=costs.get)\n",
    "    cheapest_rate_value = costs[cheapest_rate_name]\n",
    "    \n",
    "    # Create the statement\n",
    "    statement = f\"{cheapest_rate_name} cost of £{cheapest_rate_value:.2f} is the cheapest rate available using last year's data.\"\n",
    "    return statement\n",
    "\n",
    "# Find the cheapest rate and create the statement\n",
    "cheapest_statement = find_cheapest_rate(Agile=Agile_Cost, Cosy=Total_Cosy_Cost, Intelligent_Go=Total_Intelligent_Go_Cost, Go=Total_Go_Cost)\n",
    "\n",
    "print(cheapest_statement)"
   ]
  },
  {
   "cell_type": "code",
   "execution_count": 99,
   "id": "b0a7b35b",
   "metadata": {},
   "outputs": [
    {
     "name": "stdout",
     "output_type": "stream",
     "text": [
      "\u001b[1mAgile Cost:\u001b[0m £ 241.43194530000002\n",
      "\u001b[1mCosy Cost:\u001b[0m £ 243.8203564\n",
      "\u001b[1mIntelligent Go Cost:\u001b[0m 252.95168259999997\n",
      "\u001b[1mGo Cost:\u001b[0m 314.9631176\n"
     ]
    }
   ],
   "source": [
    "print(\"\\033[1mAgile Cost:\\033[0m\", \"£\", Agile_Cost)\n",
    "print(\"\\033[1mCosy Cost:\\033[0m\", \"£\", Total_Cosy_Cost)\n",
    "print(f\"\\033[1mIntelligent Go Cost:\\033[0m\", Total_Intelligent_Go_Cost)\n",
    "print(f\"\\033[1mGo Cost:\\033[0m {Total_Go_Cost}\")"
   ]
  },
  {
   "cell_type": "markdown",
   "id": "a0fea395",
   "metadata": {},
   "source": [
    "#### This section is to create a pop up box with the results"
   ]
  },
  {
   "cell_type": "code",
   "execution_count": 103,
   "id": "520c8b89",
   "metadata": {},
   "outputs": [],
   "source": [
    "import tkinter as tk\n",
    "from tkinter import messagebox\n",
    "\n",
    "# Function to show a pop-up message box\n",
    "def show_popup(title, message):\n",
    "    # Create a root window\n",
    "    root = tk.Tk()\n",
    "    # Hide the root window\n",
    "    root.withdraw()\n",
    "    # Call the message box showinfo method\n",
    "    messagebox.showinfo(title, message)\n",
    "    # Destroy the root window after the message box is closed\n",
    "    root.destroy()\n",
    "\n",
    "\n",
    "popup_title = \"Predicted Cost Calculation Results\"\n",
    "\n",
    "\n",
    "popup_message = f\"{cheapest_statement}\\n\" \\\n",
    "                f\"   \\n\" \\\n",
    "                f\"Agile Cost: £{Agile_Cost}\\n\" \\\n",
    "              f\"Cosy Cost: £{Total_Cosy_Cost}\\n\" \\\n",
    "              f\"Intelligent Go Cost: £{Total_Intelligent_Go_Cost}\\n\" \\\n",
    "              f\"Go Cost: £{Total_Go_Cost}\"\n",
    "\n",
    "show_popup(popup_title, popup_message)"
   ]
  },
  {
   "attachments": {
    "image-2.png": {
     "image/png": "[encoded data removed]"
    }
   },
   "cell_type": "markdown",
   "id": "f0a8dc3e",
   "metadata": {},
   "source": [
    "### Time Period Cheat Sheet\n",
    "## ![image-2.png](attachment:image-2.png)"
   ]
  },
  {
   "cell_type": "code",
   "execution_count": null,
   "id": "7715afb3",
   "metadata": {},
   "outputs": [],
   "source": []
  },
  {
   "cell_type": "code",
   "execution_count": null,
   "id": "95848f58",
   "metadata": {},
   "outputs": [],
   "source": []
  },
  {
   "cell_type": "code",
   "execution_count": null,
   "id": "4b0a72b3",
   "metadata": {},
   "outputs": [],
   "source": []
  }
 ],
 "metadata": {
  "kernelspec": {
   "display_name": "Python 3 (ipykernel)",
   "language": "python",
   "name": "python3"
  },
  "language_info": {
   "codemirror_mode": {
    "name": "ipython",
    "version": 3
   },
   "file_extension": ".py",
   "mimetype": "text/x-python",
   "name": "python",
   "nbconvert_exporter": "python",
   "pygments_lexer": "ipython3",
   "version": "3.10.9"
  }
 },
 "nbformat": 4,
 "nbformat_minor": 5
}
